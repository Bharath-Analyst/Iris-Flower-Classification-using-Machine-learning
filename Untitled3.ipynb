{
  "nbformat": 4,
  "nbformat_minor": 0,
  "metadata": {
    "colab": {
      "provenance": []
    },
    "kernelspec": {
      "name": "python3",
      "display_name": "Python 3"
    },
    "language_info": {
      "name": "python"
    }
  },
  "cells": [
    {
      "cell_type": "markdown",
      "source": [
        "# **README: Iris Flower Classification**\n",
        "\n",
        "---\n",
        "\n",
        "\n",
        "\n",
        "> **Name: Bharath S**\n",
        "\n",
        "> **Batch: November**\n",
        "\n",
        "> **Domain: Data Science**\n",
        "\n",
        "**Aim**\n",
        "\n",
        "The aim of this project is to develop a model that can classify iris flowers into different species based on their sepal and petal measurements.\n",
        "\n",
        "**Libraries Used**\n",
        "The following important libraries were used for this project:\n",
        "\n",
        "numpy\n",
        "\n",
        "*   Pandas\n",
        "\n",
        "*   Sklearn.Cluster.KMeans\n",
        "\n",
        "*  matplotlib.pyplot\n",
        "*  seaborn\n",
        "\n",
        "*   Dataset\n",
        "\n",
        "The iris dataset was loaded using seaborn's load_dataset function, which contains information about iris flowers, including sepal length, sepal width, petal length, petal width, and species.\n",
        "\n",
        "**Data Exploration and Preprocessing**\n",
        "\n",
        "1)The dataset was loaded using seaborn's load_dataset function as a DataFrame, and its first 5 rows were displayed using df.head().\n",
        "\n",
        "2)The 'species' column in the DataFrame was encoded to numerical values using pd.factorize(df['species']).\n",
        "\n",
        "3)Descriptive statistics for the dataset were displayed using df.describe().\n",
        "\n",
        "4)Missing values in the dataset were checked using df.isna().sum().\n",
        "\n",
        "**Data Visualization**\n",
        "\n",
        "1)3D scatter plots were created to visualize the relationship between species, petal length, and petal width, as well as between species, sepal length, and sepal width using matplotlib.pyplot and mpl_toolkits.mplot3d.Axes3D.\n",
        "\n",
        "2)2D scatter plots were created to visualize the relationship between species and sepal length, as well as between species and sepal width using seaborn.scatterplot.\n",
        "\n",
        "**Applying Elbow Technique for K-Means Clustering**\n",
        "\n",
        "1)The Elbow Technique was applied to determine the optimal number of clusters (K) using the sum of squared errors (SSE).\n",
        "\n",
        "2)The KMeans algorithm was initialized with different values of K (1 to 10) and SSE was computed for each K value.\n",
        "\n",
        "3)A plot of K values against SSE was created using matplotlib.pyplot to identify the \"elbow point,\" which indicates the optimal number of clusters.\n",
        "\n",
        "**Applying K-Means Algorithm**\n",
        "\n",
        "1)The KMeans algorithm was applied to the dataset with the optimal number of clusters (K=3) obtained from the Elbow Technique.\n",
        "\n",
        "2)The cluster labels were predicted for each data point in the dataset using km.fit_predict(df[['petal_length','petal_width']]).\n",
        "\n",
        "**Accuracy Measure**\n",
        "\n",
        "1)The confusion matrix was calculated to evaluate the accuracy of the KMeans clustering.\n",
        "\n",
        "2)The confusion matrix was plotted using matplotlib.pyplot.imshow and plt.text to visualize the true and predicted labels."
      ],
      "metadata": {
        "id": "9aNWCQ_rsQhp"
      }
    }
  ]
}